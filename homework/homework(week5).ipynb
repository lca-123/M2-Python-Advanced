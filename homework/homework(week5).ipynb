{
 "cells": [
  {
   "cell_type": "code",
   "execution_count": 1,
   "metadata": {},
   "outputs": [
    {
     "name": "stdout",
     "output_type": "stream",
     "text": [
      "mypdfs/2106.13112.pdf\n",
      "mypdfs/2103.07579.pdf\n",
      "mypdfs/2109.05673.pdf\n",
      "mypdfs/1908.02426.pdf\n",
      "mypdfs/1905.05406.pdf\n"
     ]
    }
   ],
   "source": [
    "import os\n",
    "from PyPDF4 import PdfFileReader, PdfFileWriter\n",
    "\n",
    "folder_path = 'mypdfs/'\n",
    "pdf_names = os.listdir(folder_path)\n",
    "\n",
    "writer = PdfFileWriter()\n",
    "\n",
    "for name in pdf_names:\n",
    "    pdf_path = f'{folder_path}{name}'\n",
    "    print(pdf_path)\n",
    "    with open(pdf_path, \"rb\") as pdf_file:\n",
    "        pdf = PdfFileReader(pdf_file)\n",
    "        page = pdf.getPage(0)\n",
    "        writer.addPage(page)\n",
    "        \n",
    "        with open(\"new.pdf\", \"wb\") as output:\n",
    "            writer.write(output)"
   ]
  }
 ],
 "metadata": {
  "kernelspec": {
   "display_name": "Python 3",
   "language": "python",
   "name": "python3"
  },
  "language_info": {
   "codemirror_mode": {
    "name": "ipython",
    "version": 3
   },
   "file_extension": ".py",
   "mimetype": "text/x-python",
   "name": "python",
   "nbconvert_exporter": "python",
   "pygments_lexer": "ipython3",
   "version": "3.10.6"
  }
 },
 "nbformat": 4,
 "nbformat_minor": 2
}
