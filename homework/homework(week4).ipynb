{
 "cells": [
  {
   "cell_type": "code",
   "execution_count": 1,
   "metadata": {},
   "outputs": [],
   "source": [
    "import xlrd\n",
    "import xlwt\n",
    "import re\n",
    "\n",
    "# 识别文本中的url链接\n",
    "def extract_links(text):\n",
    "    pattern = re.compile(r'https?://\\S+')\n",
    "    links = pattern.findall(text)\n",
    "    \n",
    "    return links\n",
    "\n",
    "# 打开excel\n",
    "data = xlrd.open_workbook('H1.xls')\n",
    "sheet1 = data.sheet_by_index(0)\n",
    "rows, cols = sheet1.nrows, sheet1.ncols\n",
    "\n",
    "workbook = xlwt.Workbook(encoding = 'ascii')\n",
    "worksheet = workbook.add_sheet('NewSheet')\n",
    "\n",
    "for row in range(1, rows):\n",
    "    text = sheet1.cell_value(row, 3)\n",
    "    link = extract_links(text)[0]\n",
    "    worksheet.write(row-1, 0, label = sheet1.cell_value(row, 0))\n",
    "    worksheet.write(row-1, 1, label = sheet1.cell_value(row, 1))\n",
    "    worksheet.write(row-1, 2, label = sheet1.cell_value(row, 2))\n",
    "    worksheet.write(row-1, 3, label = link)\n",
    "    worksheet.write(row-1, 4, label = sheet1.cell_value(row, 4))\n",
    "\n",
    "workbook.save('New_H1.xls')"
   ]
  }
 ],
 "metadata": {
  "kernelspec": {
   "display_name": "Python 3",
   "language": "python",
   "name": "python3"
  },
  "language_info": {
   "codemirror_mode": {
    "name": "ipython",
    "version": 3
   },
   "file_extension": ".py",
   "mimetype": "text/x-python",
   "name": "python",
   "nbconvert_exporter": "python",
   "pygments_lexer": "ipython3",
   "version": "3.10.6"
  }
 },
 "nbformat": 4,
 "nbformat_minor": 2
}
