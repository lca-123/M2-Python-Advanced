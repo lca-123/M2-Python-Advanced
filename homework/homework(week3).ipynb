{
 "cells": [
  {
   "cell_type": "markdown",
   "metadata": {},
   "source": [
    "### Homework 1\n",
    "\n",
    "###### Given two strings s and t, return true if t is an anagram of s, and false otherwise. (Using Dictionary)\n",
    "###### Example :\n",
    "###### Input: s = \"anagram\", t = \"nagaram\"\n",
    "###### Output: True\n",
    "###### print(IsAnagram(s,t)) \t"
   ]
  },
  {
   "cell_type": "code",
   "execution_count": 1,
   "metadata": {},
   "outputs": [
    {
     "data": {
      "text/plain": [
       "True"
      ]
     },
     "execution_count": 1,
     "metadata": {},
     "output_type": "execute_result"
    }
   ],
   "source": [
    "def IsAnagram(s: str, t: str) -> bool:\n",
    "    dit={}\n",
    "    for cha in s:\n",
    "        if cha not in dit.keys():\n",
    "            dit[cha]=1\n",
    "        else:\n",
    "            dit[cha]+=1\n",
    "    for cha in t:\n",
    "        if cha not in dit.keys():\n",
    "            return False\n",
    "        else:\n",
    "            dit[cha]-=1\n",
    "    for k,v in dit.items():\n",
    "        if not v==0:\n",
    "            return False\n",
    "    return True\n",
    "\n",
    "IsAnagram('anagram','nagaram')"
   ]
  },
  {
   "cell_type": "markdown",
   "metadata": {},
   "source": [
    "### Homework 2\n",
    "\n",
    "###### Given a non-negative integer x, compute and return the square root of x.\n",
    "\n",
    "###### Since the return type is an integer, the decimal digits are truncated, and only the integer part of the result is returned.\n",
    "\n",
    "######  Note: You are not allowed to use any built-in exponent function or operator, such as pow(x, 0.5) or x ** 0.5.\n",
    "\n",
    "###### Example:\n",
    "###### Input: x = 8\n",
    "###### Output: 2"
   ]
  },
  {
   "cell_type": "code",
   "execution_count": 7,
   "metadata": {},
   "outputs": [
    {
     "data": {
      "text/plain": [
       "2"
      ]
     },
     "execution_count": 7,
     "metadata": {},
     "output_type": "execute_result"
    }
   ],
   "source": [
    "def MySqrt(n: int) -> int:\n",
    "    if n < 0:\n",
    "        raise ValueError(\"输入的数字不能是负数\")\n",
    "\n",
    "    if n == 0 or n == 1:\n",
    "        return n\n",
    "\n",
    "    left, right = 1, n\n",
    "\n",
    "    while left <= right:\n",
    "        mid = (left + right) // 2\n",
    "\n",
    "        if mid**2 <= n < (mid+1)**2:\n",
    "            return mid\n",
    "        elif (mid+1)**2 <= n:\n",
    "            left = mid + 1\n",
    "        elif mid**2 > n:\n",
    "            right = mid - 1\n",
    "\n",
    "MySqrt(8)"
   ]
  },
  {
   "cell_type": "markdown",
   "metadata": {},
   "source": [
    "### Homework 3\n",
    "###### A robot is located at the top-left corner of a m x n grid (marked 'Start' in the diagram below).\n",
    "###### The robot can only move either down or right at any point in time. \n",
    "###### The robot is trying to reach the bottom-right corner of the grid (marked 'Finish' in the diagram below).\n",
    "###### How many possible unique paths are there?"
   ]
  },
  {
   "cell_type": "code",
   "execution_count": 12,
   "metadata": {},
   "outputs": [
    {
     "data": {
      "text/plain": [
       "3"
      ]
     },
     "execution_count": 12,
     "metadata": {},
     "output_type": "execute_result"
    }
   ],
   "source": [
    "def uniquePaths(m, n):\n",
    "    arr = [1 for _ in range(n)]\n",
    "    for _ in range(m-1):\n",
    "        for j in range(1, n):\n",
    "            arr[j]+=arr[j-1]\n",
    "    return arr[n-1]\n",
    "\n",
    "uniquePaths(3, 2)"
   ]
  },
  {
   "cell_type": "markdown",
   "metadata": {},
   "source": [
    "### Homework 4\n",
    "###### Given an integer array nums, return the length of the longest strictly increasing subsequence.\n",
    "###### A subsequence is a sequence that can be derived from an array by deleting some or no elements without changing the order of the remaining elements. \n",
    "###### For example, [3,6,2,7] is a subsequence of the array [0,3,1,6,2,2,7]."
   ]
  },
  {
   "cell_type": "code",
   "execution_count": 4,
   "metadata": {},
   "outputs": [
    {
     "data": {
      "text/plain": [
       "4"
      ]
     },
     "execution_count": 4,
     "metadata": {},
     "output_type": "execute_result"
    }
   ],
   "source": [
    "def lengthOfLIS(nums):\n",
    "    if not nums:\n",
    "        return 0\n",
    "    dp = []\n",
    "    for i in range(len(nums)):\n",
    "        dp.append(1)\n",
    "        for j in range(i):\n",
    "            if nums[i] > nums[j]:\n",
    "                dp[i] = max(dp[i], dp[j] + 1)\n",
    "    return max(dp)\n",
    "\n",
    "nums = [10,9,2,5,3,7,101,18]\n",
    "lengthOfLIS(nums)"
   ]
  }
 ],
 "metadata": {
  "kernelspec": {
   "display_name": "Python 3",
   "language": "python",
   "name": "python3"
  },
  "language_info": {
   "codemirror_mode": {
    "name": "ipython",
    "version": 3
   },
   "file_extension": ".py",
   "mimetype": "text/x-python",
   "name": "python",
   "nbconvert_exporter": "python",
   "pygments_lexer": "ipython3",
   "version": "3.10.6"
  }
 },
 "nbformat": 4,
 "nbformat_minor": 2
}
